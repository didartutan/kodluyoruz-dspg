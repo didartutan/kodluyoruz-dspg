{
 "cells": [
  {
   "cell_type": "markdown",
   "metadata": {},
   "source": [
    "Question 1 \n",
    "Write a code that modifies the given matrix M (with 3 rows and 4 columns), by swapping the (whole) columns 0 and 1.\n",
    "M = [[11, 12, 13, 14], [21, 22, 23, 24], [31, 32, 33, 34]]\n",
    "The matrix M above should become the matrix below;\n",
    "M = [[12, 11, 13, 14], [22, 21, 23, 24], [32, 31, 33, 34]]"
   ]
  },
  {
   "cell_type": "code",
   "execution_count": 26,
   "metadata": {},
   "outputs": [
    {
     "name": "stdout",
     "output_type": "stream",
     "text": [
      "[[12, 11, 13, 14], [22, 21, 23, 24], [32, 31, 33, 34]]\n"
     ]
    }
   ],
   "source": [
    "M = [[11, 12, 13, 14], [21, 22, 23, 24], [31, 32, 33, 34]]\n",
    "for i in range(len(M)):\n",
    "    M[i][0],M[i][1]=M[i][1],M[i][0] \n",
    "print(M)"
   ]
  },
  {
   "cell_type": "markdown",
   "metadata": {},
   "source": [
    "Question 2 Find the maximal element of the matrix M and print the row number and column number of the maximal element as a tuple.\n",
    "M = [[0, 3, 2, 4], [2, 7, 5, 9], [6, 1, 2, 3]]\n",
    "The output of the code should be row number and column number of the maximal element as a tuple. (1,3)"
   ]
  },
  {
   "cell_type": "code",
   "execution_count": 28,
   "metadata": {},
   "outputs": [
    {
     "name": "stdout",
     "output_type": "stream",
     "text": [
      "(1, 3)\n"
     ]
    }
   ],
   "source": [
    "import pandas as pd\n",
    "import numpy\n",
    "M = [[0, 3, 2, 4], [2, 7, 5, 9], [6, 1, 2, 3]]\n",
    "arr=numpy.array(M)\n",
    "result=numpy.where(arr==numpy.amax(arr))\n",
    "result_as_tuple=tuple(zip(result[0],result[1]))\n",
    "for results in result_as_tuple:\n",
    "    print(results)\n",
    "    "
   ]
  },
  {
   "cell_type": "markdown",
   "metadata": {},
   "source": [
    "Question 3 Given two lists of numbers, count how many unique numbers occur in both of them.\n",
    "For example, on input\n",
    "list_1 = [5, 3, 3, 10, 40]\n",
    "list_2 = [40, 3, 40, 1, 2]\n",
    "output must be\n",
    "6"
   ]
  },
  {
   "cell_type": "code",
   "execution_count": 3,
   "metadata": {},
   "outputs": [
    {
     "name": "stdout",
     "output_type": "stream",
     "text": [
      "6\n"
     ]
    }
   ],
   "source": [
    "list_1=[5,3,3,10,40] \n",
    "list_2=[40,3,40,1,2]\n",
    "unionlist= list_1 + list_2\n",
    "uniqueunion= set(unionlist)\n",
    "print(len(uniqueunion))"
   ]
  },
  {
   "cell_type": "markdown",
   "metadata": {},
   "source": [
    "Question4 \n",
    "We have a dictionary containing the math grades and the student number of 5 students. Calculate the mean of the grades and then prints out the name of the students who are above and below that average(and if any print that are equals to the mean as well):\n",
    "For example if the grades are\n",
    "Jane: 30\n",
    "Pat: 40\n",
    "Denis: 50\n",
    "Max: 60\n",
    "Lara: 70\n",
    "Then the mean is 50\n",
    "your program should print:\n",
    "*\"Grade(s) of Jane and Pat are below the average\"*\n",
    "*\"Grade(s) of Denis is equal to the mean\"*\n",
    "*\"Grade(s) of Max and Lara are above the average\"*"
   ]
  },
  {
   "cell_type": "code",
   "execution_count": 30,
   "metadata": {},
   "outputs": [],
   "source": [
    "students = {\"Jane\":{\"grade\":90,\"student_number\":4012}, \n",
    "          \"Pat\":{\"grade\":81,\"student_number\":4052},\n",
    "          \"Denis\":{\"grade\":70,\"student_number\":4089},\n",
    "          \"Max\":{\"grade\":72,\"student_number\":4322},\n",
    "          \"Lara\":{\"grade\":74,\"student_number\":4042}}"
   ]
  },
  {
   "cell_type": "code",
   "execution_count": 32,
   "metadata": {},
   "outputs": [
    {
     "name": "stdout",
     "output_type": "stream",
     "text": [
      "77.4\n"
     ]
    }
   ],
   "source": [
    "total_grade=students[\"Jane\"][\"grade\"]+students[\"Pat\"][\"grade\"]+students[\"Denis\"][\"grade\"]+students[\"Max\"][\"grade\"]+students[\"Lara\"][\"grade\"]\n",
    "avg_grade=total_grade/5\n",
    "print(avg_grade)\n",
    "\n",
    "gradesList = []\n",
    "for student in students:\n",
    "      gradesList.append(students[student][\"grade\"])\n",
    "\n"
   ]
  },
  {
   "cell_type": "code",
   "execution_count": 47,
   "metadata": {},
   "outputs": [
    {
     "name": "stdout",
     "output_type": "stream",
     "text": [
      "['Jane', 'Pat', 'Denis', 'Max', 'Lara']\n"
     ]
    }
   ],
   "source": [
    "names=[]\n",
    "for key, value in students.items():\n",
    "    names.append(key)\n",
    "print(names)"
   ]
  },
  {
   "cell_type": "code",
   "execution_count": 49,
   "metadata": {},
   "outputs": [
    {
     "name": "stdout",
     "output_type": "stream",
     "text": [
      "{'Jane': 90, 'Pat': 81, 'Denis': 70, 'Max': 72, 'Lara': 74}\n"
     ]
    }
   ],
   "source": [
    "zipped=dict(zip(names, gradesList))\n",
    "print(zipped)"
   ]
  },
  {
   "cell_type": "code",
   "execution_count": 50,
   "metadata": {},
   "outputs": [],
   "source": [
    "aboveavg=[]\n",
    "average=[]\n",
    "belowavg=[]\n",
    "\n",
    "for key in zipped:\n",
    "    if zipped[key]>77.4:\n",
    "        aboveavg.append(key)\n",
    "    elif zipped[key]==77:\n",
    "        average.append(key)\n",
    "    else:\n",
    "        belowavg.append(key)\n",
    "        "
   ]
  },
  {
   "cell_type": "code",
   "execution_count": 60,
   "metadata": {},
   "outputs": [
    {
     "name": "stdout",
     "output_type": "stream",
     "text": [
      "Jane, Pat are above average.\n",
      "Denis, Max,Lara are below average.\n"
     ]
    }
   ],
   "source": [
    "print(\"{}, {} are above average.\".format(aboveavg[0],aboveavg[1]))\n",
    "print(\"{}, {},{} are below average.\".format(belowavg[0],belowavg[1], belowavg[2]))"
   ]
  },
  {
   "cell_type": "markdown",
   "metadata": {},
   "source": [
    "Question 5 A theatre sells batches of 1 to 4 tickets per sale (if available). Initially there are 200 tickets. Write a Python program that repeatedly tells the user how many tickets are left, asks for how many tickets the user wants to buy, indicates minimum and maximum numbers to buy, and reads the user's input. This continues until all tickets have been sold. At the end, the program prints how many sales transactions have been performed. For example, we might have the following interaction:\n",
    "200 tickets remaining\n",
    "How many do you want to buy?\n",
    "Minimum 1, maximum 4\n",
    "3\n",
    "197 tickets remaining\n",
    "How many do you want to buy?\n",
    "Minimum 1, maximum 4\n",
    "4\n",
    "(...)\n",
    "2 tickets remaining\n",
    "How many do you want to buy?\n",
    "Minimum 1, maximum 2\n",
    "2\n",
    "86 sales transactions\n",
    "(You may assume that the user enters the data correctly, i.e., all values are integers between the current minimum and maximum numbers they may buy.)"
   ]
  },
  {
   "cell_type": "code",
   "execution_count": 1,
   "metadata": {},
   "outputs": [
    {
     "name": "stdout",
     "output_type": "stream",
     "text": [
      "There are 200 many ticket(s) left.\n",
      "How many do you want to buy? Minimum 1 Maximum 44\n",
      "There are 196 many ticket(s) left.\n",
      "How many do you want to buy? Minimum 1 Maximum 44\n",
      "There are 192 many ticket(s) left.\n",
      "How many do you want to buy? Minimum 1 Maximum 44\n",
      "There are 188 many ticket(s) left.\n",
      "How many do you want to buy? Minimum 1 Maximum 44\n",
      "There are 184 many ticket(s) left.\n",
      "How many do you want to buy? Minimum 1 Maximum 44\n",
      "There are 180 many ticket(s) left.\n",
      "How many do you want to buy? Minimum 1 Maximum 44\n",
      "There are 176 many ticket(s) left.\n",
      "How many do you want to buy? Minimum 1 Maximum 44\n",
      "There are 172 many ticket(s) left.\n",
      "How many do you want to buy? Minimum 1 Maximum 44\n",
      "There are 168 many ticket(s) left.\n",
      "How many do you want to buy? Minimum 1 Maximum 44\n",
      "There are 164 many ticket(s) left.\n",
      "How many do you want to buy? Minimum 1 Maximum 44\n",
      "There are 160 many ticket(s) left.\n",
      "How many do you want to buy? Minimum 1 Maximum 44\n",
      "There are 156 many ticket(s) left.\n",
      "How many do you want to buy? Minimum 1 Maximum 44\n",
      "There are 152 many ticket(s) left.\n",
      "How many do you want to buy? Minimum 1 Maximum 44\n",
      "There are 148 many ticket(s) left.\n",
      "How many do you want to buy? Minimum 1 Maximum 4148\n",
      "There are 0 many ticket(s) left.\n",
      "15 transactions made.\n"
     ]
    }
   ],
   "source": [
    "initial_tickets=200\n",
    "counter=0\n",
    "while True:\n",
    "    counter+=1\n",
    "    print(f\"There are {initial_tickets} many ticket(s) left.\")\n",
    "    if initial_tickets>4:\n",
    "        inp=int(input(\"How many do you want to buy? Minimum 1 Maximum 4\"))\n",
    "        initial_tickets=initial_tickets-inp\n",
    "    elif initial_tickets==3:\n",
    "         inp=int(input(\"How many do you want to buy? Minimum 1 Maximum 3\"))\n",
    "         initial_tickets=initial_tickets-inp\n",
    "    elif initial_tickets==2:\n",
    "         inp=int(input(\"How many do you want to buy? Minimum 1 Maximum 2\"))\n",
    "         initial_tickets=initial_tickets-inp\n",
    "    elif initial_tickets==1:\n",
    "        inp=int(input(\"How many do you want to buy? Minimum 1 Maximum 1\"))\n",
    "        initial_tickets=initial_tickets-inp\n",
    "    else:\n",
    "        print(f\"{counter} transactions made.\")\n",
    "        break\n",
    "        \n",
    "    "
   ]
  },
  {
   "cell_type": "code",
   "execution_count": null,
   "metadata": {},
   "outputs": [],
   "source": []
  }
 ],
 "metadata": {
  "kernelspec": {
   "display_name": "Python 3",
   "language": "python",
   "name": "python3"
  },
  "language_info": {
   "codemirror_mode": {
    "name": "ipython",
    "version": 3
   },
   "file_extension": ".py",
   "mimetype": "text/x-python",
   "name": "python",
   "nbconvert_exporter": "python",
   "pygments_lexer": "ipython3",
   "version": "3.7.6"
  }
 },
 "nbformat": 4,
 "nbformat_minor": 4
}
