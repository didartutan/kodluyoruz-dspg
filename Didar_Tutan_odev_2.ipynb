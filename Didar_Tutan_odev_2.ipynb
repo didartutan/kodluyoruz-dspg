{
 "cells": [
  {
   "cell_type": "markdown",
   "metadata": {},
   "source": [
    "## 1) Power(Iterative):\n",
    "\n",
    "Write a program that calculates n'th power of a given number iteratively"
   ]
  },
  {
   "cell_type": "code",
   "execution_count": 83,
   "metadata": {},
   "outputs": [
    {
     "name": "stdout",
     "output_type": "stream",
     "text": [
      "8\n"
     ]
    }
   ],
   "source": [
    "def iter_power(x, n): # It sould return x^n, and yes you cannot use x**n for this problem -_-\n",
    "    result=1\n",
    "    for a in range(n):\n",
    "        result=result*x\n",
    "    print(result)\n",
    "iter_power(2,3)\n",
    "\n"
   ]
  },
  {
   "cell_type": "markdown",
   "metadata": {},
   "source": [
    "## 2) Power(Recursive):\n",
    "\n",
    "Write a program that calculates n'th power of a given number recursively"
   ]
  },
  {
   "cell_type": "code",
   "execution_count": 84,
   "metadata": {},
   "outputs": [
    {
     "data": {
      "text/plain": [
       "8"
      ]
     },
     "execution_count": 84,
     "metadata": {},
     "output_type": "execute_result"
    }
   ],
   "source": [
    "def recur_power(x, n): \n",
    "    if n==0 or x==1:\n",
    "        return 1\n",
    "    else:\n",
    "        return x*recur_power(x,n-1)\n",
    "recur_power(2,3)"
   ]
  },
  {
   "cell_type": "markdown",
   "metadata": {},
   "source": [
    "### 3) Key with the maximum number of values:\n",
    "\n",
    "Given dictionary d, return a key that has a maximum value associated with it\n",
    "\n",
    "for example if d = {\"a\":[1,2,3], \"b\":[45,43,21,23], \"c\":[3,4,5]}\n",
    "\n",
    "it should return \"b\""
   ]
  },
  {
   "cell_type": "code",
   "execution_count": 85,
   "metadata": {},
   "outputs": [
    {
     "data": {
      "text/plain": [
       "'b'"
      ]
     },
     "execution_count": 85,
     "metadata": {},
     "output_type": "execute_result"
    }
   ],
   "source": [
    "def max_key(dict):\n",
    "    return max(dict, key= lambda x: dict[x])\n",
    "        \n",
    "d = {\"a\":[1,2,3], \"b\":[45,43,21,23], \"c\":[3,4,5]}\n",
    "max_key(d)            \n",
    "\n",
    "        "
   ]
  },
  {
   "cell_type": "markdown",
   "metadata": {},
   "source": [
    "### 4) fibonacci serisini recursive olarak dictionary kullanarak yapmak (fib(2) yi bir kere hesapladıysa başka bir function call'da bir daha hesaplamasın degerini dictionary den bulup koysun gibi)"
   ]
  },
  {
   "cell_type": "code",
   "execution_count": 1,
   "metadata": {},
   "outputs": [
    {
     "data": {
      "text/plain": [
       "144"
      ]
     },
     "execution_count": 1,
     "metadata": {},
     "output_type": "execute_result"
    }
   ],
   "source": [
    "def rec_fib(x):\n",
    "    storage={}\n",
    "    if x in storage:\n",
    "        return storage[x] + rec_fib(x-1)\n",
    "    else:\n",
    "        if x==1 or x==2:\n",
    "            value=1\n",
    "        elif x>2:\n",
    "            value=rec_fib(x-1)+rec_fib(x-2)\n",
    "            storage[x]=value\n",
    "    return value\n",
    "rec_fib(12)    \n",
    "\n"
   ]
  },
  {
   "cell_type": "code",
   "execution_count": null,
   "metadata": {},
   "outputs": [],
   "source": []
  }
 ],
 "metadata": {
  "kernelspec": {
   "display_name": "Python 3",
   "language": "python",
   "name": "python3"
  },
  "language_info": {
   "codemirror_mode": {
    "name": "ipython",
    "version": 3
   },
   "file_extension": ".py",
   "mimetype": "text/x-python",
   "name": "python",
   "nbconvert_exporter": "python",
   "pygments_lexer": "ipython3",
   "version": "3.7.6"
  }
 },
 "nbformat": 4,
 "nbformat_minor": 2
}
